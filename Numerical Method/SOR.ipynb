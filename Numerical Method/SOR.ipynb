{
 "cells": [
  {
   "cell_type": "code",
   "execution_count": 3,
   "id": "c49baefc-f3a4-4676-931b-8da3eb7b5afd",
   "metadata": {},
   "outputs": [],
   "source": [
    "import pandas as pd\n",
    "import numpy as np"
   ]
  },
  {
   "cell_type": "code",
   "execution_count": 4,
   "id": "0076a1f5-9150-42c1-ae4d-527962e33e54",
   "metadata": {},
   "outputs": [],
   "source": [
    "N=160\n",
    "b=[[np.pi] for i in range(N)]\n",
    "\n",
    "A = []\n",
    "for i in range(N):\n",
    "    column = []\n",
    "    i+=1\n",
    "    for j in range(N):\n",
    "        j+=1\n",
    "        if j==i:\n",
    "            column.append(2*i)\n",
    "        elif j==i+2 or j==i-2:\n",
    "            column.append(0.5*i)\n",
    "        elif j==i+4 or j==i-4:\n",
    "            column.append(0.25*i)\n",
    "        else:\n",
    "            column.append(0)\n",
    "    A.append(column)"
   ]
  },
  {
   "cell_type": "code",
   "execution_count": 5,
   "id": "f9c284d4-7a8b-45ba-9cee-8a386484f5cf",
   "metadata": {},
   "outputs": [],
   "source": [
    "def SOR_method(A,b,omega,Tol):\n",
    "    \n",
    "    num = 0\n",
    "    ite = 0\n",
    "    x = [[0] for i in range(len(b))]  # initial guess\n",
    "    error=[]\n",
    "    \n",
    "    # Gauss-Seidel\n",
    "    while True:\n",
    "\n",
    "        x_compare = x\n",
    "        new_x = []\n",
    "        \n",
    "        # every column\n",
    "        for i in range(len(A)):\n",
    "\n",
    "            new=0\n",
    "            \n",
    "            # derives the form (x and others are at LHS, RHS,respectively)\n",
    "            if A[i][i] != 0 :\n",
    "\n",
    "                for j in range(len(A[i])):\n",
    "                    if j < i:\n",
    "                        new -= A[i][j] * new_x[j][0]\n",
    "                    elif j > i:\n",
    "                        new -= A[i][j] * x[j][0]\n",
    "                    else:\n",
    "                        pass\n",
    "            if i!=0:  \n",
    "                new_x.append([(new + b[i][0]) / A[i][i] * omega])\n",
    "            else:\n",
    "                new_x.append([(new + b[i][0]) / A[i][i] * omega + (1-omega) * x[j][0]])\n",
    "        \n",
    "        # Tol\n",
    "        x = new_x\n",
    "\n",
    "        for k in range(len(x)):\n",
    "            ll=[]\n",
    "            ll.append(abs([ j for i in x_compare for j in i][k] - [ j for i in x for j in i][k]))\n",
    "            num = max(ll)\n",
    "\n",
    "        if ite!=0:\n",
    "            num /= max([ abs(j) for i in x_compare for j in i])\n",
    "\n",
    "        ite+=1\n",
    "        error.append(round(num,7))\n",
    "        if num < Tol:\n",
    "            print('總共迭代了%d次' % (ite-1))\n",
    "            return x,ite,error  # x\n",
    "            break"
   ]
  },
  {
   "cell_type": "code",
   "execution_count": 6,
   "id": "2c475859-9fef-4f50-8402-642b4b20e105",
   "metadata": {},
   "outputs": [
    {
     "name": "stdout",
     "output_type": "stream",
     "text": [
      "總共迭代了3次\n",
      "[0.0047937, 0.000153, 3.2e-06, 3e-07]\n",
      "總共迭代了3次\n",
      "[0.006018, 0.0002357, 1.19e-05, 2e-07]\n",
      "總共迭代了4次\n",
      "[0.0071072, 0.000321, 2.8e-05, 1.2e-06, 3e-07]\n",
      "總共迭代了4次\n",
      "[0.0080824, 0.0004052, 5.23e-05, 5.4e-06, 0.0]\n",
      "總共迭代了5次\n",
      "[0.0089607, 0.0004858, 8.43e-05, 1.41e-05, 1.7e-06, 2e-07]\n"
     ]
    }
   ],
   "source": [
    "s=[]\n",
    "for i in [0.6,0.8,1.0,1.2,1.4]:\n",
    "    x,ite,error = SOR_method(A,b,i,1e-6)\n",
    "    df = pd.DataFrame(index=['$$||\\cdot||_\\infty$$'],columns=[k for k in range(ite)])\n",
    "    for j in range(ite):\n",
    "        df[j] = error[j]\n",
    "    df.columns.name='$$\\omega={name}$$ite'.format(name=i)\n",
    "    s.append(df)\n",
    "    print(error)"
   ]
  },
  {
   "cell_type": "code",
   "execution_count": 7,
   "id": "a260a034-ef60-413b-97ec-41e339aa5e20",
   "metadata": {},
   "outputs": [
    {
     "data": {
      "text/html": [
       "<div>\n",
       "<style scoped>\n",
       "    .dataframe tbody tr th:only-of-type {\n",
       "        vertical-align: middle;\n",
       "    }\n",
       "\n",
       "    .dataframe tbody tr th {\n",
       "        vertical-align: top;\n",
       "    }\n",
       "\n",
       "    .dataframe thead th {\n",
       "        text-align: right;\n",
       "    }\n",
       "</style>\n",
       "<table border=\"1\" class=\"dataframe\">\n",
       "  <thead>\n",
       "    <tr style=\"text-align: right;\">\n",
       "      <th>$$\\omega=0.6$$ite</th>\n",
       "      <th>0</th>\n",
       "      <th>1</th>\n",
       "      <th>2</th>\n",
       "      <th>3</th>\n",
       "    </tr>\n",
       "  </thead>\n",
       "  <tbody>\n",
       "    <tr>\n",
       "      <th>$$||\\cdot||_\\infty$$</th>\n",
       "      <td>0.004794</td>\n",
       "      <td>0.000153</td>\n",
       "      <td>0.000003</td>\n",
       "      <td>3.000000e-07</td>\n",
       "    </tr>\n",
       "  </tbody>\n",
       "</table>\n",
       "</div>"
      ],
      "text/plain": [
       "$$\\omega=0.6$$ite            0         1         2             3\n",
       "$$||\\cdot||_\\infty$$  0.004794  0.000153  0.000003  3.000000e-07"
      ]
     },
     "execution_count": 7,
     "metadata": {},
     "output_type": "execute_result"
    }
   ],
   "source": [
    "s[0]"
   ]
  },
  {
   "cell_type": "code",
   "execution_count": 8,
   "id": "098fa14e-a137-4ff0-a619-c9f4f5af17b6",
   "metadata": {},
   "outputs": [
    {
     "data": {
      "text/html": [
       "<div>\n",
       "<style scoped>\n",
       "    .dataframe tbody tr th:only-of-type {\n",
       "        vertical-align: middle;\n",
       "    }\n",
       "\n",
       "    .dataframe tbody tr th {\n",
       "        vertical-align: top;\n",
       "    }\n",
       "\n",
       "    .dataframe thead th {\n",
       "        text-align: right;\n",
       "    }\n",
       "</style>\n",
       "<table border=\"1\" class=\"dataframe\">\n",
       "  <thead>\n",
       "    <tr style=\"text-align: right;\">\n",
       "      <th>$$\\omega=0.8$$ite</th>\n",
       "      <th>0</th>\n",
       "      <th>1</th>\n",
       "      <th>2</th>\n",
       "      <th>3</th>\n",
       "    </tr>\n",
       "  </thead>\n",
       "  <tbody>\n",
       "    <tr>\n",
       "      <th>$$||\\cdot||_\\infty$$</th>\n",
       "      <td>0.006018</td>\n",
       "      <td>0.000236</td>\n",
       "      <td>0.000012</td>\n",
       "      <td>2.000000e-07</td>\n",
       "    </tr>\n",
       "  </tbody>\n",
       "</table>\n",
       "</div>"
      ],
      "text/plain": [
       "$$\\omega=0.8$$ite            0         1         2             3\n",
       "$$||\\cdot||_\\infty$$  0.006018  0.000236  0.000012  2.000000e-07"
      ]
     },
     "execution_count": 8,
     "metadata": {},
     "output_type": "execute_result"
    }
   ],
   "source": [
    "s[1]"
   ]
  },
  {
   "cell_type": "code",
   "execution_count": 9,
   "id": "98112a13-e500-4b39-a19a-d6d5a64792b6",
   "metadata": {},
   "outputs": [
    {
     "data": {
      "text/html": [
       "<div>\n",
       "<style scoped>\n",
       "    .dataframe tbody tr th:only-of-type {\n",
       "        vertical-align: middle;\n",
       "    }\n",
       "\n",
       "    .dataframe tbody tr th {\n",
       "        vertical-align: top;\n",
       "    }\n",
       "\n",
       "    .dataframe thead th {\n",
       "        text-align: right;\n",
       "    }\n",
       "</style>\n",
       "<table border=\"1\" class=\"dataframe\">\n",
       "  <thead>\n",
       "    <tr style=\"text-align: right;\">\n",
       "      <th>$$\\omega=1.0$$ite</th>\n",
       "      <th>0</th>\n",
       "      <th>1</th>\n",
       "      <th>2</th>\n",
       "      <th>3</th>\n",
       "      <th>4</th>\n",
       "    </tr>\n",
       "  </thead>\n",
       "  <tbody>\n",
       "    <tr>\n",
       "      <th>$$||\\cdot||_\\infty$$</th>\n",
       "      <td>0.007107</td>\n",
       "      <td>0.000321</td>\n",
       "      <td>0.000028</td>\n",
       "      <td>0.000001</td>\n",
       "      <td>3.000000e-07</td>\n",
       "    </tr>\n",
       "  </tbody>\n",
       "</table>\n",
       "</div>"
      ],
      "text/plain": [
       "$$\\omega=1.0$$ite            0         1         2         3             4\n",
       "$$||\\cdot||_\\infty$$  0.007107  0.000321  0.000028  0.000001  3.000000e-07"
      ]
     },
     "execution_count": 9,
     "metadata": {},
     "output_type": "execute_result"
    }
   ],
   "source": [
    "s[2]"
   ]
  },
  {
   "cell_type": "code",
   "execution_count": 10,
   "id": "f94366db-4f34-4348-85be-3afdd6b52416",
   "metadata": {},
   "outputs": [
    {
     "data": {
      "text/html": [
       "<div>\n",
       "<style scoped>\n",
       "    .dataframe tbody tr th:only-of-type {\n",
       "        vertical-align: middle;\n",
       "    }\n",
       "\n",
       "    .dataframe tbody tr th {\n",
       "        vertical-align: top;\n",
       "    }\n",
       "\n",
       "    .dataframe thead th {\n",
       "        text-align: right;\n",
       "    }\n",
       "</style>\n",
       "<table border=\"1\" class=\"dataframe\">\n",
       "  <thead>\n",
       "    <tr style=\"text-align: right;\">\n",
       "      <th>$$\\omega=1.2$$ite</th>\n",
       "      <th>0</th>\n",
       "      <th>1</th>\n",
       "      <th>2</th>\n",
       "      <th>3</th>\n",
       "      <th>4</th>\n",
       "    </tr>\n",
       "  </thead>\n",
       "  <tbody>\n",
       "    <tr>\n",
       "      <th>$$||\\cdot||_\\infty$$</th>\n",
       "      <td>0.008082</td>\n",
       "      <td>0.000405</td>\n",
       "      <td>0.000052</td>\n",
       "      <td>0.000005</td>\n",
       "      <td>0.0</td>\n",
       "    </tr>\n",
       "  </tbody>\n",
       "</table>\n",
       "</div>"
      ],
      "text/plain": [
       "$$\\omega=1.2$$ite            0         1         2         3    4\n",
       "$$||\\cdot||_\\infty$$  0.008082  0.000405  0.000052  0.000005  0.0"
      ]
     },
     "execution_count": 10,
     "metadata": {},
     "output_type": "execute_result"
    }
   ],
   "source": [
    "s[3]"
   ]
  },
  {
   "cell_type": "code",
   "execution_count": 11,
   "id": "145c9858-503c-4ae6-9421-e702e240e984",
   "metadata": {},
   "outputs": [
    {
     "data": {
      "text/html": [
       "<div>\n",
       "<style scoped>\n",
       "    .dataframe tbody tr th:only-of-type {\n",
       "        vertical-align: middle;\n",
       "    }\n",
       "\n",
       "    .dataframe tbody tr th {\n",
       "        vertical-align: top;\n",
       "    }\n",
       "\n",
       "    .dataframe thead th {\n",
       "        text-align: right;\n",
       "    }\n",
       "</style>\n",
       "<table border=\"1\" class=\"dataframe\">\n",
       "  <thead>\n",
       "    <tr style=\"text-align: right;\">\n",
       "      <th>$$\\omega=1.4$$ite</th>\n",
       "      <th>0</th>\n",
       "      <th>1</th>\n",
       "      <th>2</th>\n",
       "      <th>3</th>\n",
       "      <th>4</th>\n",
       "      <th>5</th>\n",
       "    </tr>\n",
       "  </thead>\n",
       "  <tbody>\n",
       "    <tr>\n",
       "      <th>$$||\\cdot||_\\infty$$</th>\n",
       "      <td>0.008961</td>\n",
       "      <td>0.000486</td>\n",
       "      <td>0.000084</td>\n",
       "      <td>0.000014</td>\n",
       "      <td>0.000002</td>\n",
       "      <td>2.000000e-07</td>\n",
       "    </tr>\n",
       "  </tbody>\n",
       "</table>\n",
       "</div>"
      ],
      "text/plain": [
       "$$\\omega=1.4$$ite            0         1         2         3         4  \\\n",
       "$$||\\cdot||_\\infty$$  0.008961  0.000486  0.000084  0.000014  0.000002   \n",
       "\n",
       "$$\\omega=1.4$$ite                5  \n",
       "$$||\\cdot||_\\infty$$  2.000000e-07  "
      ]
     },
     "execution_count": 11,
     "metadata": {},
     "output_type": "execute_result"
    }
   ],
   "source": [
    "s[4]"
   ]
  },
  {
   "cell_type": "code",
   "execution_count": null,
   "id": "e5c06107-7140-4bf8-875f-e3b4709cf838",
   "metadata": {},
   "outputs": [],
   "source": []
  },
  {
   "cell_type": "code",
   "execution_count": null,
   "id": "f05e5cca-55e4-4b25-a846-62068af61ab0",
   "metadata": {},
   "outputs": [],
   "source": []
  }
 ],
 "metadata": {
  "kernelspec": {
   "display_name": "Python 3 (ipykernel)",
   "language": "python",
   "name": "python3"
  },
  "language_info": {
   "codemirror_mode": {
    "name": "ipython",
    "version": 3
   },
   "file_extension": ".py",
   "mimetype": "text/x-python",
   "name": "python",
   "nbconvert_exporter": "python",
   "pygments_lexer": "ipython3",
   "version": "3.8.5"
  }
 },
 "nbformat": 4,
 "nbformat_minor": 5
}
