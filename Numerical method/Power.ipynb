{
 "cells": [
  {
   "cell_type": "markdown",
   "id": "06777572-be47-42b1-a12c-910c5463665f",
   "metadata": {},
   "source": [
    "### Power method"
   ]
  },
  {
   "cell_type": "code",
   "execution_count": 162,
   "id": "08f8abec-4225-4a6f-b960-08a69554d2a3",
   "metadata": {},
   "outputs": [],
   "source": [
    "import numpy as np"
   ]
  },
  {
   "cell_type": "code",
   "execution_count": 163,
   "id": "3c9c989e-17f5-4907-b874-6efe89e6fa88",
   "metadata": {},
   "outputs": [],
   "source": [
    "A=np.array([[4,1,1,1],\n",
    "   [1,3,-1,1],\n",
    "   [1,-1,2,0],\n",
    "   [1,1,0,2]])"
   ]
  },
  {
   "cell_type": "code",
   "execution_count": 164,
   "id": "b20d3518-007e-4091-8ada-573da88ec7ee",
   "metadata": {},
   "outputs": [],
   "source": [
    "x_init = np.array([1,-2,0,3])"
   ]
  },
  {
   "cell_type": "code",
   "execution_count": 166,
   "id": "3619775f-6c4e-4dbd-9050-be230393bce4",
   "metadata": {},
   "outputs": [],
   "source": [
    "def max_idx_val(x):    \n",
    "    num = 0\n",
    "    for i,j in enumerate(x):\n",
    "        if abs(j)>num:\n",
    "            num=abs(j)\n",
    "            real=j\n",
    "            idx=i       \n",
    "    return idx,real"
   ]
  },
  {
   "cell_type": "code",
   "execution_count": 167,
   "id": "2c80f6da-2e00-479e-917f-002f92f9df1a",
   "metadata": {},
   "outputs": [],
   "source": [
    "def PM(A, x_init, Tol=10**(-5), N = 1000):\n",
    "    \n",
    "    xp = max_idx_val(x_init)[1]\n",
    "    x = x_init/xp\n",
    "    err = 1\n",
    "    k=0\n",
    "    mu0=0  # accelerating convergence\n",
    "    mu1=1  # accelerating convergence\n",
    "    \n",
    "    while k<N:\n",
    "        \n",
    "        y = np.matmul(A,x)\n",
    "        mu = max_idx_val(y)[1]\n",
    "        mu_hat = mu0 - (mu1-mu0)**2/(mu-2*mu1+mu0)  # accelerating convergence\n",
    "        # p = max_idx_val(y)[0]\n",
    "        \n",
    "        if mu==0:\n",
    "            return ('eigenvector is {}'.format(x),'A has eigenvalue 0, select new x and restart')\n",
    "        \n",
    "        err = abs(max_idx_val(x-y/mu)[1])\n",
    "        x = y/mu\n",
    "                \n",
    "        if err<Tol and k>=3:  # accelerating convergence\n",
    "            return (mu_hat,x), k\n",
    "        \n",
    "        k+=1\n",
    "        mu0=mu1  # accelerating convergence\n",
    "        mu1=mu  # accelerating convergence\n",
    "        \n",
    "    return('The maximum number of iterations exceed')"
   ]
  },
  {
   "cell_type": "code",
   "execution_count": 168,
   "id": "c9e01ab7-daba-43be-98ca-cbbe206a1e92",
   "metadata": {},
   "outputs": [
    {
     "name": "stdout",
     "output_type": "stream",
     "text": [
      "the number of iteration is 29\n"
     ]
    }
   ],
   "source": [
    "res = PM(A,x_init)\n",
    "print('the number of iteration is {}'.format(res[1]))"
   ]
  },
  {
   "cell_type": "markdown",
   "id": "3111e422-7a4c-41f7-ac19-c06faeca1f55",
   "metadata": {},
   "source": [
    "### comparing our result with LA pachage.\n",
    "\n",
    "### we find that the accurence for the approximation of dominant eigenvalue is acceptable but not for the corresponding eigenvector."
   ]
  },
  {
   "cell_type": "code",
   "execution_count": 169,
   "id": "8c148f2a-bc28-4f66-9aa3-3aec2d411d28",
   "metadata": {},
   "outputs": [],
   "source": [
    "from numpy import linalg as LA"
   ]
  },
  {
   "cell_type": "code",
   "execution_count": 170,
   "id": "086931cb-fc3e-4037-b23e-93ac709bacf6",
   "metadata": {},
   "outputs": [],
   "source": [
    "w, v = LA.eig(A)"
   ]
  },
  {
   "cell_type": "code",
   "execution_count": 174,
   "id": "debcd4be-7ac1-4055-a387-1791acdce6c6",
   "metadata": {},
   "outputs": [
    {
     "name": "stdout",
     "output_type": "stream",
     "text": [
      "Dominant eigenvalue: \n",
      "LA package: 5.236067977499797 \n",
      "Power method: 5.236067978158313 \n",
      "the difference: 6.58515908469326e-10\n"
     ]
    }
   ],
   "source": [
    "print('Dominant eigenvalue:','\\nLA package:',max(w), '\\nPower method:', res[0][0], '\\nthe difference:',abs(max(w)-res[0][0]))"
   ]
  },
  {
   "cell_type": "code",
   "execution_count": 172,
   "id": "02b67918-54bf-4ea5-997e-3258373ce7bd",
   "metadata": {},
   "outputs": [],
   "source": [
    "v1 = np.array([ 0.77946844,  0.39584281, -0.3459793 , -0.3406402 ])"
   ]
  },
  {
   "cell_type": "code",
   "execution_count": 173,
   "id": "c36a5145-55da-4841-926c-f8b025b06a1d",
   "metadata": {},
   "outputs": [
    {
     "name": "stdout",
     "output_type": "stream",
     "text": [
      "Eigenvector corresponding dominant eigenvalue: \n",
      "LA package: [ 1.          0.50783687 -0.44386569 -0.43701603] \n",
      "Power method: [1.         0.61801245 0.11804844 0.4999915 ]\n"
     ]
    }
   ],
   "source": [
    "print('Eigenvector corresponding dominant eigenvalue:', '\\nLA package:',v1/max(v1), '\\nPower method:', res[0][1])"
   ]
  },
  {
   "cell_type": "markdown",
   "id": "8606e08f-f6ee-4eb0-a467-68c241c2aeae",
   "metadata": {},
   "source": [
    "### symmetric power method"
   ]
  },
  {
   "cell_type": "code",
   "execution_count": 175,
   "id": "a0f14e19-3e29-43f9-a8af-ea4d839d8a1b",
   "metadata": {},
   "outputs": [],
   "source": [
    "def two_norm(x):\n",
    "    num=0\n",
    "    for i in x:\n",
    "        num+=i**2\n",
    "    return num**(1/2)"
   ]
  },
  {
   "cell_type": "code",
   "execution_count": 176,
   "id": "d222e394-b7e8-41d5-878d-201e1bf58367",
   "metadata": {},
   "outputs": [],
   "source": [
    "def PM_sys(A, x_init, Tol=10**(-5), N = 1000):\n",
    "    \n",
    "    x = x_init/two_norm(x_init)\n",
    "    err = 1\n",
    "    k=0\n",
    "    \n",
    "    while k<N:\n",
    "        \n",
    "        y = np.matmul(A,x)\n",
    "        mu = np.matmul(x.transpose(),y)\n",
    "        \n",
    "        if two_norm(y)==0:\n",
    "            return ('eigenvector is {}'.format(x),'A has eigenvalue 0, select new x and restart')\n",
    "        \n",
    "        err = two_norm(x-y/two_norm(y))\n",
    "        x = y/two_norm(y)\n",
    "                \n",
    "        if err<Tol:\n",
    "            return (mu,x), k\n",
    "        \n",
    "        k+=1\n",
    "        \n",
    "    return('The maximum number of iterations exceed')"
   ]
  },
  {
   "cell_type": "code",
   "execution_count": 177,
   "id": "66a68a12-7413-46a0-92e6-69eb685d3677",
   "metadata": {},
   "outputs": [],
   "source": [
    "res_=PM_sys(A,x_init)"
   ]
  },
  {
   "cell_type": "code",
   "execution_count": 178,
   "id": "c55f2871-63e6-4bb5-b632-54111d01f492",
   "metadata": {},
   "outputs": [
    {
     "name": "stdout",
     "output_type": "stream",
     "text": [
      "the number of iteration is 29\n"
     ]
    }
   ],
   "source": [
    "print('the number of iteration is {}'.format(res_[1]))"
   ]
  },
  {
   "cell_type": "markdown",
   "id": "26042116-f898-4cb2-a901-5ef69c4674f6",
   "metadata": {},
   "source": [
    "### comparing our result with LA pachage.\n",
    "\n",
    "### we find that the accurence for the approximation of dominant eigenvalue is acceptable but not for the corresponding eigenvector."
   ]
  },
  {
   "cell_type": "code",
   "execution_count": 179,
   "id": "33052997-132c-4fda-9826-b05a118e4d90",
   "metadata": {},
   "outputs": [
    {
     "name": "stdout",
     "output_type": "stream",
     "text": [
      "Dominant eigenvalue: \n",
      "LA package: 5.236067977499797 \n",
      "Sysmetric power method: 5.23606797628063\n"
     ]
    }
   ],
   "source": [
    "print('Dominant eigenvalue:','\\nLA package:',max(w), '\\nSysmetric power method:', res_[0][0])"
   ]
  },
  {
   "cell_type": "code",
   "execution_count": 181,
   "id": "21030e13-9461-48ae-9887-9ef65ab8c705",
   "metadata": {},
   "outputs": [
    {
     "name": "stdout",
     "output_type": "stream",
     "text": [
      "Eigenvector corresponding dominant eigenvalue: \n",
      "LA package: [ 1.          0.50783687 -0.44386569 -0.43701603] \n",
      "Sysmetric power method: [0.77947595 0.48172584 0.09201592 0.38973135] \n",
      "the difference: 1.219166989585574e-09\n"
     ]
    }
   ],
   "source": [
    "print('Eigenvector corresponding dominant eigenvalue:', '\\nLA package:',v1/max(v1), '\\nSysmetric power method:', res_[0][1], '\\nthe difference:',abs(max(w)-res_[0][0]))"
   ]
  },
  {
   "cell_type": "markdown",
   "id": "33e7d047-5d0a-4feb-9468-f0555103aca1",
   "metadata": {},
   "source": [
    "### Summary : \n",
    "### In this example, power method is better than symmetric power \n",
    "### method regardless of the symmetry property of matrix A, but\n",
    "###  it may results from the dimension of matrix A is not big enough."
   ]
  },
  {
   "cell_type": "code",
   "execution_count": null,
   "id": "1bad9d92-4607-4cdd-9f6d-8aa3958efbde",
   "metadata": {},
   "outputs": [],
   "source": []
  }
 ],
 "metadata": {
  "kernelspec": {
   "display_name": "Python 3 (ipykernel)",
   "language": "python",
   "name": "python3"
  },
  "language_info": {
   "codemirror_mode": {
    "name": "ipython",
    "version": 3
   },
   "file_extension": ".py",
   "mimetype": "text/x-python",
   "name": "python",
   "nbconvert_exporter": "python",
   "pygments_lexer": "ipython3",
   "version": "3.8.5"
  }
 },
 "nbformat": 4,
 "nbformat_minor": 5
}
